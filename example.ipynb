{
 "cells": [
  {
   "cell_type": "code",
   "execution_count": null,
   "metadata": {
    "pycharm": {
     "name": "#%%\n"
    }
   },
   "outputs": [],
   "source": [
    "%load_ext autoreload\n",
    "%autoreload 2"
   ]
  },
  {
   "cell_type": "code",
   "execution_count": null,
   "metadata": {
    "pycharm": {
     "name": "#%%\n"
    }
   },
   "outputs": [],
   "source": [
    "from mcparser.svt_parser import *  # noqas\n",
    "from mcparser.wiki_getter import *  # noqas\n",
    "from mcparser.utils.icons import ICONS  # noqas\n",
    "from mcparser.item_parser import *  # noqas\n",
    "from mcparser.svt_parser import *  # noqas\n",
    "from mcparser.craft_parser import *  # noqas\n",
    "from mcparser.cmd_parser import *  # noqas\n",
    "from mcparser.event_parser import *  # noqas\n",
    "from mcparser.quest_parser import *  # noqas\n",
    "from mcparser.glpk_parser import *  # noqas\n",
    "from mcparser.packer import *  # noqas"
   ]
  },
  {
   "cell_type": "code",
   "execution_count": null,
   "metadata": {
    "pycharm": {
     "name": "#%%\n"
    }
   },
   "outputs": [],
   "source": [
    "t0 = time.time()\n",
    "# logger.setLevel(logging.INFO)\n",
    "tasks = ['csv', 'icon', 'item', 'svt', 'craft', 'cmd', 'event', 'quest', 'glpk', 'dicon', 'pack']\n",
    "# tasks = [ 'icon', 'dicon']\n",
    "# tasks = ['icon', 'item', 'svt', 'craft', 'cmd', 'event', 'quest', 'glpk', 'dicon', 'pack']"
   ]
  },
  {
   "cell_type": "code",
   "execution_count": null,
   "metadata": {
    "pycharm": {
     "name": "#%%\n"
    }
   },
   "outputs": [],
   "source": [
    "# %% 1-CSV\n",
    "if 'csv' in tasks:\n",
    "    # override = pd.DataFrame(index=[289, 290, 291],\n",
    "    #                         columns=['name_link', 'name_cn', 'avatar', 'get', 'np_type'],\n",
    "    #                         data=[['阿比盖尔·威廉姆斯〔夏〕', '阿比盖尔·威廉姆斯〔夏〕', 'Servant289.jpg', '期间限定', '全体']])\n",
    "    override = None\n",
    "    WikiGetter.get_servant_data(override=override, )\n",
    "    WikiGetter.get_craft_data()\n",
    "    WikiGetter.get_cmd_data()\n",
    "    EventWikiGetter.get_event_data(start_from=None)#{'Event': '狩猎关卡 第6'})\n",
    "else:\n",
    "    print('skip csv')"
   ]
  },
  {
   "cell_type": "code",
   "execution_count": null,
   "metadata": {
    "pycharm": {
     "name": "#%%\n"
    }
   },
   "outputs": [],
   "source": [
    "# %% 2-set ICONS first\n",
    "if 'icon' in tasks:\n",
    "    ICONS.load(config.paths.icon_des)\n",
    "    # ICONS.add_common_icons()\n",
    "else:\n",
    "    print('skip icon')"
   ]
  },
  {
   "cell_type": "code",
   "execution_count": null,
   "metadata": {
    "pycharm": {
     "name": "#%%\n"
    }
   },
   "outputs": [],
   "source": [
    "# %% 3-then items\n",
    "if 'item' in tasks:\n",
    "    ip = ItemParser()\n",
    "    ip.parse()\n",
    "    ip.dump(config.paths.item_des)\n",
    "else:\n",
    "    print('skip item')"
   ]
  },
  {
   "cell_type": "code",
   "execution_count": null,
   "metadata": {
    "pycharm": {
     "name": "#%%\n"
    }
   },
   "outputs": [],
   "source": [
    "# %% 4-Servants\n",
    "if 'svt' in tasks:\n",
    "    sp = ServantParser(config.paths.svt_src)\n",
    "    sp.parse(range(17, 18))\n",
    "    sp.dump(config.paths.svt_des)\n",
    "else:\n",
    "    print('skip svt')"
   ]
  },
  {
   "cell_type": "code",
   "execution_count": null,
   "metadata": {
    "pycharm": {
     "name": "#%%\n"
    }
   },
   "outputs": [],
   "source": [
    "# %% 5-Crafts\n",
    "if 'craft' in tasks:\n",
    "    # logger.setLevel(logging.INFO)\n",
    "    sp = globals().get('sp', None)\n",
    "    cep = CraftParser(config.paths.craft_src, sp)\n",
    "    cep.parse(range(0, 2000))\n",
    "    cep.dump(config.paths.craft_des)\n",
    "    if sp:\n",
    "        sp.dump(config.paths.svt_des)\n",
    "else:\n",
    "    print('skip craft')"
   ]
  },
  {
   "cell_type": "code",
   "execution_count": null,
   "metadata": {
    "pycharm": {
     "name": "#%%\n"
    }
   },
   "outputs": [],
   "source": [
    "# %% 6-CmdCodes\n",
    "if 'cmd' in tasks:\n",
    "    ccp = CmdParser(config.paths.cmd_src)\n",
    "    ccp.parse(range(0, 500))\n",
    "    ccp.dump(config.paths.cmd_des)\n",
    "else:\n",
    "    print('skip cmd')"
   ]
  },
  {
   "cell_type": "code",
   "execution_count": null,
   "metadata": {
    "pycharm": {
     "name": "#%%\n"
    }
   },
   "outputs": [],
   "source": [
    "# %% 7-Event\n",
    "if 'event' in tasks:\n",
    "    ip = globals().get('ip', None)\n",
    "    ep = EventParser(config.paths.event_src, ip)\n",
    "    ep.parse()\n",
    "    ep.dump(config.paths.event_des)\n",
    "else:\n",
    "    print('skip event')"
   ]
  },
  {
   "cell_type": "code",
   "execution_count": null,
   "metadata": {
    "pycharm": {
     "name": "#%%\n"
    }
   },
   "outputs": [],
   "source": [
    "# %% 8-quest\n",
    "if 'quest' in tasks:\n",
    "    ip = globals().get('ip', None)\n",
    "    qp = QuestParser(ip)\n",
    "    qp.parse(config.paths.event_src, config.paths.svt_src)\n",
    "    qp.dump(config.paths.quest_des)\n",
    "else:\n",
    "    print('skip quest')"
   ]
  },
  {
   "cell_type": "code",
   "execution_count": null,
   "metadata": {
    "pycharm": {
     "name": "#%%\n"
    }
   },
   "outputs": [],
   "source": [
    "# %% 9-glpk\n",
    "if 'glpk' in tasks:\n",
    "    qp = globals().get('qp', None)\n",
    "    gp = GLPKParser()\n",
    "    gp.parse(cn_columns=189)\n",
    "    gp.check_quest(qp)\n",
    "    gp.add_special_drops()\n",
    "    gp.dump(config.paths.glpk_des)\n",
    "else:\n",
    "    print('skip glpk')"
   ]
  },
  {
   "cell_type": "code",
   "execution_count": null,
   "metadata": {
    "pycharm": {
     "name": "#%%\n"
    }
   },
   "outputs": [],
   "source": [
    "# %% 10-save icons\n",
    "if 'dicon' in tasks:\n",
    "    ICONS.download_icons(config.paths.icons_folder, workers=config.default_workers * 2)\n",
    "    ICONS.dump(config.paths.icon_des)\n",
    "else:\n",
    "    print('skip dicon')"
   ]
  },
  {
   "cell_type": "code",
   "execution_count": null,
   "metadata": {
    "pycharm": {
     "name": "#%%\n"
    }
   },
   "outputs": [],
   "source": [
    "# %% 11-pack\n",
    "if 'pack' in tasks:\n",
    "    # make_dataset(config.paths.dataset_des, sp, cep, ccp, ep, ip, ICONS, qp, gp)\n",
    "    make_dataset(config.paths.dataset_des)\n",
    "    make_zip('output/releases/')\n",
    "    make_zip('output/releases/', text_only=True)\n",
    "    make_zip('output/', 'dataset.zip')\n",
    "    make_zip('output/', 'dataset.zip', text_only=True)\n",
    "    if is_windows():\n",
    "        make_zip(r'D:/Projects/AndroidStudioProjects/chaldea/res/data/', 'dataset.zip')\n",
    "    if is_macos():\n",
    "        make_zip(r'/Users/narumi/Projects/chaldea/res/data/', 'dataset.zip')\n",
    "else:\n",
    "    print('skip pack')"
   ]
  },
  {
   "cell_type": "code",
   "execution_count": null,
   "metadata": {
    "pycharm": {
     "name": "#%%\n"
    }
   },
   "outputs": [],
   "source": [
    "# %%\n",
    "dt = time.time() - t0\n",
    "logger.info(f'====== run example for {int(dt / 60)} min {dt % 60:.1f} sec =====')\n",
    "assert 1 == 2"
   ]
  }
 ],
 "metadata": {
  "kernelspec": {
   "display_name": "Python 3",
   "language": "python",
   "name": "python3"
  },
  "language_info": {
   "codemirror_mode": {
    "name": "ipython",
    "version": 3
   },
   "file_extension": ".py",
   "mimetype": "text/x-python",
   "name": "python",
   "nbconvert_exporter": "python",
   "pygments_lexer": "ipython3",
   "version": "3.7.7"
  }
 },
 "nbformat": 4,
 "nbformat_minor": 1
}
